{
 "cells": [
  {
   "cell_type": "markdown",
   "metadata": {},
   "source": [
    "# Разделение текстов по длинам предложений и слов\n",
    "\n",
    "_начало тьюториала авторства А. Умнова_\n",
    "\n",
    "Возмём пару текстов разных жанров и проверим гипотезу, что тексты этих двух жанров можно различать глядя на длину предложения и длину слова. Для начала разобьём всё на предложения.\n",
    "\n",
    "\n",
    "\n",
    "Мы будем преобразовывать текст в кучу точек данных. Каждая точка данных состоит из нескольких чисел, в которых мы хотим отразить длину предложения и длину слова. Например:\n",
    "* длина предложения, средняя длина слова\n",
    "* длина предложения, длина данного слова (длина предложения повторяется для каждого слова из предложения)\n",
    "* длина предложения, средняя длина, медиана, среднеквадратичное отклонение\n",
    "\n"
   ]
  },
  {
   "cell_type": "code",
   "execution_count": 1,
   "metadata": {
    "collapsed": false
   },
   "outputs": [
    {
     "name": "stdout",
     "output_type": "stream",
     "text": [
      "42997\n",
      "True\n"
     ]
    }
   ],
   "source": [
    "import re\n",
    "import numpy as np\n",
    "\n",
    "with open('anna.txt', encoding='utf-8') as f:\n",
    "    anna = f.read()\n",
    "with open('sonets.txt', encoding='utf-8') as f:\n",
    "    sonets = f.read()\n",
    "    \n",
    "anna_sentences = re.split(r'([.]\\s*){3}|[.?!]', anna)\n",
    "sonet_sentences = re.split(r'([.]\\s*){3}|[.?!]', sonets)\n",
    "\n",
    "print(len(anna_sentences))\n",
    "print(None in anna_sentences)"
   ]
  },
  {
   "cell_type": "markdown",
   "metadata": {},
   "source": [
    "\n",
    "\n",
    "У нас получилось слишком много предложений и какие-то None. Дело вот в чём, что re.findall и re.split считают, что если в регулярном выражении есть что-то в скобках, то это непременно должно попасть в выдачу, ибо это что-то очень существенное (раз мы это разметили скобками!). findall в этом случае не выводит находку целиком, а выводит только содержимое скобок (всех, какие есть). split в этом случае бьёт текст на части, но между двумя соседними частями выводит содержимое каждой скобки, которая есть в выражении.\n",
    "\n",
    "В нашем случае скобка не всегда оказывается с той стороны от |, чтобы в неё что-то попало, поэтому питон и вставляет None.\n",
    "\n",
    "А лучше бы питон вообще не считал скобку как что-то особенное и только использовал её для ограничения области действия знаков. Такой тип скобок в питонских регулярных выражениях есть. Они открываются символом (?:, а закрываются символом ).\n"
   ]
  },
  {
   "cell_type": "code",
   "execution_count": 2,
   "metadata": {
    "collapsed": false
   },
   "outputs": [
    {
     "name": "stdout",
     "output_type": "stream",
     "text": [
      "False\n",
      "21499 1378\n"
     ]
    }
   ],
   "source": [
    "anna_sentences = re.split(r'(?:[.]\\s*){3}|[.?!]', anna)\n",
    "sonet_sentences = re.split(r'(?:[.]\\s*){3}|[.?!]', sonets)\n",
    "print(None in anna_sentences)\n",
    "print(len(anna_sentences), len(sonet_sentences))\n"
   ]
  },
  {
   "cell_type": "markdown",
   "metadata": {},
   "source": [
    "\n",
    "\n",
    "Так-то лучше. Теперь мы можем посчитать те данные, которые нам нужны для анализа:\n"
   ]
  },
  {
   "cell_type": "code",
   "execution_count": 3,
   "metadata": {
    "collapsed": false
   },
   "outputs": [],
   "source": [
    "def lenwords(sentence):\n",
    "    return [len(word) for word in sentence.split()]\n",
    "\n",
    "anna_sentlens = [lenwords(sentence) for sentence in anna_sentences if len(lenwords(sentence)) > 0]\n",
    "sonet_sentlens = [lenwords(sentence) for sentence in sonet_sentences if len(lenwords(sentence)) > 0]\n",
    "anna_data = [(len(sentence), np.mean(sentence), np.median(sentence), np.std(sentence)) \n",
    "             for sentence in anna_sentlens]\n",
    "sonet_data = [(len(sentence), np.mean(sentence), np.median(sentence), np.std(sentence)) for \n",
    "              sentence in sonet_sentlens]"
   ]
  },
  {
   "cell_type": "markdown",
   "metadata": {},
   "source": [
    "Если у нас всё в порядке, то данные должны выглядеть примерно так:"
   ]
  },
  {
   "cell_type": "code",
   "execution_count": 4,
   "metadata": {
    "collapsed": false
   },
   "outputs": [
    {
     "data": {
      "text/plain": [
       "[(25, 5.7599999999999998, 6.0, 3.0630703550522638),\n",
       " (5, 5.2000000000000002, 4.0, 3.2496153618543842),\n",
       " (25, 4.3200000000000003, 3.0, 4.8226133993924911),\n",
       " (18, 6.0555555555555554, 6.0, 3.9082849637692352),\n",
       " (32, 5.28125, 5.0, 3.0845823765138776),\n",
       " (12, 4.333333333333333, 4.0, 1.8408935028645437),\n",
       " (35, 5.5428571428571427, 5.0, 2.9601434052410092),\n",
       " (38, 4.4736842105263159, 5.0, 2.4998614920079825),\n",
       " (35, 4.8571428571428568, 5.0, 2.4858784839035661),\n",
       " (5, 3.3999999999999999, 3.0, 0.4898979485566356)]"
      ]
     },
     "execution_count": 4,
     "metadata": {},
     "output_type": "execute_result"
    }
   ],
   "source": [
    "anna_data[:10]"
   ]
  },
  {
   "cell_type": "markdown",
   "metadata": {},
   "source": [
    "Теперь хочется на данные посмотреть по-человечески. В этом нам помогут графики, которые очень здорово рисует matplotlib."
   ]
  },
  {
   "cell_type": "code",
   "execution_count": 5,
   "metadata": {
    "collapsed": false
   },
   "outputs": [
    {
     "data": {
      "image/png": "[encoded data removed]",
      "text/plain": [
       "<matplotlib.figure.Figure at 0x7f5a04417f98>"
      ]
     },
     "metadata": {},
     "output_type": "display_data"
    }
   ],
   "source": [
    "# в обычной консоли эта строка не нужна (только для ipython notebook)\n",
    "%matplotlib inline\n",
    "\n",
    "from matplotlib import pyplot as plt\n",
    "anna_data = np.array(anna_data)\n",
    "sonet_data = np.array(sonet_data)\n",
    "plt.figure()\n",
    "plt.plot(anna_data[:,0], anna_data[:,3], 'o')\n",
    "plt.show()"
   ]
  },
  {
   "cell_type": "markdown",
   "metadata": {},
   "source": [
    "\n",
    "\n",
    "Функция plot получает на вход массив значений по x, массив значений по y (они должны быть одинаковой длины, тогда каждая пара значений с одинаковым номером будет задавать точку на плоскости), и параметры рисования (необязательно). Самые популярные параметры:\n",
    "\n",
    "* o – кружочки\n",
    "* x – крестики\n",
    "* l – линии (по умолчанию)\n",
    "* r, g, b – красный, зелёный, синий\n",
    "\n",
    "То есть мы нарисовали по X длину предложения в словах, по Y среднюю длину слова. Про matplotlib есть:\n",
    "\n",
    "* [замечательнейший туториал](http://matplotlib.org/users/pyplot_tutorial.html) в виде кучи примеров с комментариями (ну и вообще горы документации)\n",
    "* [небольшая галерея самых полезных примеров с исходниками и комментариями](http://matplotlib.org/gallery.html)\n",
    "* [море примеров с комментариями](http://matplotlib.org/examples/index.html)\n",
    "* и, конечно, ваш любимый поисковик с кучей ответов\n",
    "\n",
    "Лучший способ добиться красивой картинки от matplotlib, как правило, в том, чтобы найти похожий на желаемое пример, а потом удалять из него всё лишнее до тех пор, пока он не рассыпется, а потом наполнить его своим содержимым.\n",
    "\n",
    "Хочется нарисовать на одном графике и сонеты, и Анну Каренину, чтобы понять, насколько они друг на друга похожи или непохожи. Мы можем просто через запятую продолжать писать очередную пару комплектов координат и очередную настройку вида:\n"
   ]
  },
  {
   "cell_type": "code",
   "execution_count": 6,
   "metadata": {
    "collapsed": false
   },
   "outputs": [
    {
     "data": {
      "image/png": "[encoded data removed]",
      "text/plain": [
       "<matplotlib.figure.Figure at 0x7f59dffadda0>"
      ]
     },
     "metadata": {},
     "output_type": "display_data"
    }
   ],
   "source": [
    "plt.figure()\n",
    "c1, c2 = 0, 1\n",
    "plt.plot(anna_data[:,c1], anna_data[:,c2], 'og', \n",
    "         sonet_data[:,c1], sonet_data[:,c2], 'sb')\n",
    "plt.show()"
   ]
  },
  {
   "cell_type": "markdown",
   "metadata": {},
   "source": [
    "Видим, что тексты слабо, но различимы по этой паре координат."
   ]
  },
  {
   "cell_type": "markdown",
   "metadata": {},
   "source": [
    "# Метод главных компонент, PCA\n",
    "\n",
    "Суть этого преобразования очень простая. Мы пересекаем наше множество точек разными осями, и смотрим, вдоль какой оси, если на неё спроецировать наши данные, получается наибольшая дисперсия. И, когда мы такую ось нашли, мы берём её за первую ось новой системы отсчёта, строим ортогональную ей гиперплоскость, в которую проецируем данные, и повторяем эту процедуру, глядя на данные только в этой плоскости.\n",
    "\n",
    "Если у нас данные трёхмерные, то аналогия этого процесса совсем наглядная. У нас есть точки в трёхмерном пространстве, которые описывают какую-то фигуру. Мы поворачиваем эту фигуру так, чтобы вдоль оси OX у неё была наибольшая дисперсия, вдоль OY наибольшая из оставшегося, вдоль OZ наименьшая. То есть мы заходим к данным с такого бока, чтобы они были всегда шире, чем выше, чем глубже."
   ]
  },
  {
   "cell_type": "code",
   "execution_count": 7,
   "metadata": {
    "collapsed": false
   },
   "outputs": [],
   "source": [
    "from matplotlib import mlab\n",
    "p = mlab.PCA(anna_data, True)"
   ]
  },
  {
   "cell_type": "markdown",
   "metadata": {},
   "source": [
    "Результат регрессии оказывается в p.Y. Мы можем нарисовать первые две оси из неё:"
   ]
  },
  {
   "cell_type": "code",
   "execution_count": 8,
   "metadata": {
    "collapsed": false
   },
   "outputs": [
    {
     "data": {
      "text/plain": [
       "[<matplotlib.lines.Line2D at 0x7f59e0736b38>]"
      ]
     },
     "execution_count": 8,
     "metadata": {},
     "output_type": "execute_result"
    },
    {
     "data": {
      "image/png": "[encoded data removed]",
      "text/plain": [
       "<matplotlib.figure.Figure at 0x7f5a04417eb8>"
      ]
     },
     "metadata": {},
     "output_type": "display_data"
    }
   ],
   "source": [
    "plt.plot(p.Y[:,0], p.Y[:,1], 'o')"
   ]
  },
  {
   "cell_type": "markdown",
   "metadata": {},
   "source": [
    "Теперь добавим к нашим данным сонеты и разложим на главные компоненты все вместе. Необходимо все данные объединять в одну матрицу, чтобы результаты преобразования для первого и второго корпуса были сравнимы."
   ]
  },
  {
   "cell_type": "code",
   "execution_count": 9,
   "metadata": {
    "collapsed": true
   },
   "outputs": [],
   "source": [
    "data = np.vstack((anna_data, sonet_data))\n",
    "p = mlab.PCA(data, True)\n",
    "N = len(anna_data)"
   ]
  },
  {
   "cell_type": "code",
   "execution_count": 10,
   "metadata": {
    "collapsed": false
   },
   "outputs": [
    {
     "data": {
      "text/plain": [
       "[<matplotlib.lines.Line2D at 0x7f59e06a63c8>,\n",
       " <matplotlib.lines.Line2D at 0x7f59dca99c88>]"
      ]
     },
     "execution_count": 10,
     "metadata": {},
     "output_type": "execute_result"
    },
    {
     "data": {
      "image/png": "[encoded data removed]",
      "text/plain": [
       "<matplotlib.figure.Figure at 0x7f59e06cb668>"
      ]
     },
     "metadata": {},
     "output_type": "display_data"
    }
   ],
   "source": [
    "plt.plot(p.Y[:N,0], p.Y[:N,1], 'og', p.Y[N:,0], p.Y[N:,1], 'sb')"
   ]
  },
  {
   "cell_type": "markdown",
   "metadata": {},
   "source": [
    "Видим, что метод главных компонент не очень помог нам лучше различать предложения из разных корпусов. Давайте придумаем другие фичи. Что насчет числа частей речи в предложении?"
   ]
  },
  {
   "cell_type": "code",
   "execution_count": 11,
   "metadata": {
    "collapsed": false
   },
   "outputs": [
    {
     "name": "stdout",
     "output_type": "stream",
     "text": [
      "Analyzing corpus1 Fri Jan 27 00:39:16 2017\n",
      "Analyzing corpus2 Fri Jan 27 00:39:46 2017\n",
      "PCA and drawing Fri Jan 27 00:39:48 2017\n"
     ]
    },
    {
     "data": {
      "text/plain": [
       "[<matplotlib.lines.Line2D at 0x7f59e07ed828>,\n",
       " <matplotlib.lines.Line2D at 0x7f59e07ed0f0>]"
      ]
     },
     "execution_count": 11,
     "metadata": {},
     "output_type": "execute_result"
    },
    {
     "data": {
      "image/png": "[encoded data removed]",
      "text/plain": [
       "<matplotlib.figure.Figure at 0x7f59e07123c8>"
      ]
     },
     "metadata": {},
     "output_type": "display_data"
    }
   ],
   "source": [
    "import time\n",
    "from pymystem3 import Mystem\n",
    "m = Mystem()\n",
    "\n",
    "def mystem(sentence):\n",
    "    sentence = sentence.strip()\n",
    "    anas = m.analyze(sentence)\n",
    "    return anas\n",
    "\n",
    "def nouns(analysis):\n",
    "    try:\n",
    "        return len([w for w in analysis if 'S,' in w['analysis'][0]['gr']])\n",
    "    except:\n",
    "        return 0\n",
    "\n",
    "def adjectives(analysis):\n",
    "    try:\n",
    "        return len([w for w in analysis if 'A=' in w['analysis'][0]['gr']])\n",
    "    except:\n",
    "        return 0\n",
    "\n",
    "def verbs(analysis):\n",
    "    try:\n",
    "        return len([w for w in analysis if 'V,' in w['analysis'][0]['gr']])\n",
    "    except:\n",
    "        return 0\n",
    "\n",
    "def adverbs(analysis):\n",
    "    try:\n",
    "        return len([w for w in analysis if 'ADV=' in w['analysis'][0]['gr']])\n",
    "    except:\n",
    "        return 0\n",
    "\n",
    "def pronouns(analysis):\n",
    "    try:\n",
    "        return len([w for w in analysis if 'PRO' in w['analysis'][0]['gr']])\n",
    "    except:\n",
    "        return 0\n",
    "\n",
    "corp1_data = []\n",
    "corp2_data = []    \n",
    "\n",
    "print('Analyzing corpus1', time.asctime())\n",
    "for sent in anna_sentences:\n",
    "    ana = mystem(sent)\n",
    "    ana = [analysis for analysis in ana if 'analysis' in analysis.keys() and analysis['analysis'] != []]\n",
    "    corp1_data.append([adjectives(ana), nouns(ana), verbs(ana), adverbs(ana), pronouns(ana)])\n",
    "\n",
    "print('Analyzing corpus2', time.asctime())\n",
    "for sent in sonet_sentences:\n",
    "    ana = mystem(sent)\n",
    "    ana = [analysis for analysis in ana if 'analysis' in analysis.keys() and analysis['analysis'] != []]\n",
    "    corp2_data.append([adjectives(ana), nouns(ana), verbs(ana), adverbs(ana), pronouns(ana)])\n",
    "\n",
    "print('PCA and drawing', time.asctime())\n",
    "corp1_data = np.array(corp1_data)\n",
    "corp2_data = np.array(corp2_data)\n",
    "data = np.vstack((corp1_data, corp2_data))\n",
    "p = mlab.PCA(data)\n",
    "N = len(corp1_data)\n",
    "plt.figure()\n",
    "plt.plot(p.Y[:N, 0], p.Y[:N, 1], 'ob', p.Y[N:, 0], p.Y[N:, 1], 'xr')"
   ]
  },
  {
   "cell_type": "markdown",
   "metadata": {},
   "source": [
    "Видим, что опять не очень получается, но куда деваться. Давайте остановимся на этих фичах - частях речи - и попытаемся научиться классифицировать предложение (относить его либо к \"Анне Карениной\", либо к сонетам), основываясь на его признаках.\n",
    "\n",
    "Машинное обучение в python осуществляется при помощи библиотеки scikitlearn, она же sklearn.\n",
    "\n",
    "Подробнее [здесь](http://www.scikit-learn.org/). "
   ]
  },
  {
   "cell_type": "markdown",
   "metadata": {},
   "source": [
    "Читаем тексты, все для них считаем, объединяем в одну матрицу."
   ]
  },
  {
   "cell_type": "code",
   "execution_count": 12,
   "metadata": {
    "collapsed": false
   },
   "outputs": [
    {
     "name": "stderr",
     "output_type": "stream",
     "text": [
      "/usr/local/lib/python3.5/dist-packages/sklearn/cross_validation.py:44: DeprecationWarning: This module was deprecated in version 0.18 in favor of the model_selection module into which all the refactored classes and functions are moved. Also note that the interface of the new CV iterators are different from that of this module. This module will be removed in 0.20.\n",
      "  \"This module will be removed in 0.20.\", DeprecationWarning)\n",
      "/usr/local/lib/python3.5/dist-packages/sklearn/grid_search.py:43: DeprecationWarning: This module was deprecated in version 0.18 in favor of the model_selection module into which all the refactored classes and functions are moved. This module will be removed in 0.20.\n",
      "  DeprecationWarning)\n"
     ]
    },
    {
     "name": "stdout",
     "output_type": "stream",
     "text": [
      "Processing corp1...\n",
      "Processing corp2...\n"
     ]
    }
   ],
   "source": [
    "import re\n",
    "import numpy as np\n",
    "from sklearn import grid_search, svm\n",
    "from pymystem3 import Mystem\n",
    "m = Mystem()\n",
    "\n",
    "def mystem(sentence):\n",
    "    sentence = sentence.strip()\n",
    "    anas = m.analyze(sentence)\n",
    "    return anas\n",
    "\n",
    "def nouns(analysis):\n",
    "    try:\n",
    "        return len([w for w in analysis if 'S,' in w['analysis'][0]['gr']])\n",
    "    except:\n",
    "        return 0\n",
    "\n",
    "def adjectives(analysis):\n",
    "    try:\n",
    "        return len([w for w in analysis if 'A=' in w['analysis'][0]['gr']])\n",
    "    except:\n",
    "        return 0\n",
    "\n",
    "def verbs(analysis):\n",
    "    try:\n",
    "        return len([w for w in analysis if 'V,' in w['analysis'][0]['gr']])\n",
    "    except:\n",
    "        return 0\n",
    "\n",
    "def adverbs(analysis):\n",
    "    try:\n",
    "        return len([w for w in analysis if 'ADV=' in w['analysis'][0]['gr']])\n",
    "    except:\n",
    "        return 0\n",
    "\n",
    "def pronouns(analysis):\n",
    "    try:\n",
    "        return len([w for w in analysis if 'PRO' in w['analysis'][0]['gr']])\n",
    "    except:\n",
    "        return 0\n",
    "\n",
    "def prepositions(analysis):\n",
    "    try:\n",
    "        return len([w for w in analysis if 'PR=' in w['analysis'][0]['gr']])\n",
    "    except:\n",
    "        return 0\n",
    "\n",
    "with open('sonets.txt', 'r', encoding='utf-8') as f:\n",
    "    corp1 = f.read()\n",
    "with open('anna.txt', encoding='utf-8') as f:\n",
    "    corp2 = f.read()\n",
    "\n",
    "corp1_sentences = re.split(r'(?:[.]\\s*){3}|[.?!]', corp1)\n",
    "corp2_sentences = re.split(r'(?:[.]\\s*){3}|[.?!]', corp2)\n",
    "corp1_data = []\n",
    "corp2_data = []\n",
    "\n",
    "print('Processing corp1...')\n",
    "for sent in corp1_sentences:\n",
    "    ana = mystem(sent)\n",
    "    ana = [analysis for analysis in ana if 'analysis' in analysis.keys() and analysis['analysis'] != []]\n",
    "    corp1_data.append([1, adjectives(ana), nouns(ana), verbs(ana), adverbs(ana), pronouns(ana), prepositions(ana)])\n",
    "print('Processing corp2...')\n",
    "for sent in corp2_sentences:\n",
    "    ana = mystem(sent)\n",
    "    ana = [analysis for analysis in ana if 'analysis' in analysis.keys() and analysis['analysis'] != []]\n",
    "    corp2_data.append([2, adjectives(ana), nouns(ana), verbs(ana), adverbs(ana), pronouns(ana), prepositions(ana)])\n",
    "\n",
    "corp1_data = np.array(corp1_data)\n",
    "corp2_data = np.array(corp2_data)\n",
    "data = np.vstack((corp1_data, corp2_data))"
   ]
  },
  {
   "cell_type": "markdown",
   "metadata": {
    "collapsed": true
   },
   "source": [
    "Мы хотим построить такой классификатор, который решал бы нашу задачу наилучшим образом. Но есть одна проблема: алгоритмы машинного обучения очень сложные, у них много параметров, от которых зависит, как себя поведет алгоритм. И параметры, которые подойдут к нашим конкретным данным, мы заранее не знаем.\n",
    "\n",
    "Однако можно использовать перебор, который натренирует нам классификаторы с разными параметрами, все их протестирует, выберет лучший и любезно нам это сообщит. В scikitlearn перебор называется grid_search и располагается в одноименном модуле."
   ]
  },
  {
   "cell_type": "code",
   "execution_count": 13,
   "metadata": {
    "collapsed": false
   },
   "outputs": [
    {
     "name": "stdout",
     "output_type": "stream",
     "text": [
      "Best result is  0.9397211172793636\n",
      "Best C is 0.1\n"
     ]
    }
   ],
   "source": [
    "parameters = {'C': (.1, .5, 1.0, 1.5, 1.7, 2.0)}\n",
    "gs = grid_search.GridSearchCV(svm.LinearSVC(), parameters)\n",
    "gs.fit(data[:, 1:], data[:, 0])\n",
    "print('Best result is ',gs.best_score_)\n",
    "print('Best C is', gs.best_estimator_.C)"
   ]
  },
  {
   "cell_type": "markdown",
   "metadata": {},
   "source": [
    "В parameters я указываю те параметры, которые буду перебирать. В grid_search.GridSearchCV я вызываю классификатор определнного типа. Затем я тренирую свой перебор на всех имеющихся у меня данных. Каждый классификатор grid_search оценивает при помощи кросс-валидации.\n",
    "\n",
    "После этого можно распечатать, какая была наибольшая accuracy и какой коэффициент оказался наилучшим."
   ]
  },
  {
   "cell_type": "markdown",
   "metadata": {},
   "source": [
    "Теперь мы берем наш лучший классификатор и снова тренируем его, но уже на половине данных. Вторую половину используем для тестирования."
   ]
  },
  {
   "cell_type": "code",
   "execution_count": 14,
   "metadata": {
    "collapsed": false
   },
   "outputs": [
    {
     "data": {
      "text/plain": [
       "LinearSVC(C=0.1, class_weight=None, dual=True, fit_intercept=True,\n",
       "     intercept_scaling=1, loss='squared_hinge', max_iter=1000,\n",
       "     multi_class='ovr', penalty='l2', random_state=None, tol=0.0001,\n",
       "     verbose=0)"
      ]
     },
     "execution_count": 14,
     "metadata": {},
     "output_type": "execute_result"
    }
   ],
   "source": [
    "clf = svm.LinearSVC(C=gs.best_estimator_.C)\n",
    "clf.fit(data[::2, 1:], data[::2, 0])"
   ]
  },
  {
   "cell_type": "markdown",
   "metadata": {},
   "source": [
    "Метод fit() осуществляет как раз таки обучение нашей модели на тех данных, которые мы ей передали. Важно! Не передавайте модели ответы :)"
   ]
  },
  {
   "cell_type": "markdown",
   "metadata": {},
   "source": [
    "Теперь будем давать нашему алгоритмы данные из второй половины и просить его предсказать, к какому классу относится наше предложение. Если предсказание неправильное, нужно это распечатать!"
   ]
  },
  {
   "cell_type": "code",
   "execution_count": null,
   "metadata": {
    "collapsed": true
   },
   "outputs": [],
   "source": [
    "wrong = 0\n",
    "for obj in data[1::2, :]:\n",
    "    label = clf.predict(obj[1:])\n",
    "    if label != obj[0] and wrong < 3:\n",
    "        print('Пример ошибки машины: class = ', obj[0], ', label = ', label, ', экземпляр ', obj[1:])\n",
    "        wrong += 1\n",
    "    if wrong > 3:\n",
    "        break"
   ]
  },
  {
   "cell_type": "markdown",
   "metadata": {},
   "source": [
    "Ещё очень хорошие тьюториалы:\n",
    "\n",
    "* http://scikit-learn.org/stable/tutorial/text_analytics/working_with_text_data.html\n",
    "* http://fa.bianp.net/talks/ns_2011/ (только нужно везде вместо scikits.learn писать sklearn)\n",
    "* https://bugra.github.io/work/notes/2014-12-26/language-detector-via-scikit-learn/\n",
    "* http://radimrehurek.com/data_science_python/"
   ]
  }
 ],
 "metadata": {
  "kernelspec": {
   "display_name": "Python 3",
   "language": "python",
   "name": "python3"
  },
  "language_info": {
   "codemirror_mode": {
    "name": "ipython",
    "version": 3
   },
   "file_extension": ".py",
   "mimetype": "text/x-python",
   "name": "python",
   "nbconvert_exporter": "python",
   "pygments_lexer": "ipython3",
   "version": "3.5.2"
  }
 },
 "nbformat": 4,
 "nbformat_minor": 2
}
