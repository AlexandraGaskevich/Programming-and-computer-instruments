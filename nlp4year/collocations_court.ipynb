{
 "cells": [
  {
   "cell_type": "code",
   "execution_count": 1,
   "metadata": {
    "collapsed": true
   },
   "outputs": [],
   "source": [
    "import pandas as pd\n",
    "import nltk\n",
    "from nltk.collocations import *\n",
    "from scipy.stats import spearmanr"
   ]
  },
  {
   "cell_type": "code",
   "execution_count": 2,
   "metadata": {
    "collapsed": true
   },
   "outputs": [],
   "source": [
    "df = pd.read_csv('court-V-N.csv') # corpus\n",
    "rows = list(map(list, df.values)) # list of rows in corpus\n",
    "bigram_measures = nltk.collocations.BigramAssocMeasures()\n",
    "finder = BigramCollocationFinder.from_documents(rows)"
   ]
  },
  {
   "cell_type": "code",
   "execution_count": 3,
   "metadata": {
    "collapsed": false
   },
   "outputs": [],
   "source": [
    "# top 10 -- LR\n",
    "top_lr = finder.nbest(bigram_measures.likelihood_ratio, 10)"
   ]
  },
  {
   "cell_type": "code",
   "execution_count": 4,
   "metadata": {
    "collapsed": false,
    "scrolled": true
   },
   "outputs": [],
   "source": [
    "# top 10 -- PMI\n",
    "top_pmi = finder.nbest(bigram_measures.pmi, 10)"
   ]
  },
  {
   "cell_type": "code",
   "execution_count": 5,
   "metadata": {
    "collapsed": false
   },
   "outputs": [],
   "source": [
    "# lists with scores and with scores removed\n",
    "list_with_scores_lr = list(finder.score_ngrams(bigram_measures.likelihood_ratio))\n",
    "list_no_scores_lr = [(x[0][0].strip(' '), x[0][1].strip(' ')) for x in list_with_scores_lr]\n",
    "list_with_scores_pmi = list(finder.score_ngrams(bigram_measures.pmi))\n",
    "list_no_scores_pmi = [(x[0][0].strip(' '), x[0][1].strip(' ')) for x in list_with_scores_pmi]"
   ]
  },
  {
   "cell_type": "code",
   "execution_count": 17,
   "metadata": {
    "collapsed": false
   },
   "outputs": [
    {
     "name": "stdout",
     "output_type": "stream",
     "text": [
      "gold [1, 2, 3, 4, 5, 6, 7, 8, 9, 10]\n",
      "lr [5, 12, 86, 1992, 4, 3, 1251, 80, 2123, 1648]\n",
      "pmi [1976, 1963, 1978, 1792, 1924, 1997, 2123, 2062, 1927, 2085]\n"
     ]
    }
   ],
   "source": [
    "golden_stand = [(('ПРИНЯТЬ','РЕШЕНИЕ'),1), (('ПРИЗНАТЬ','ВИНОВНАЯ'),2), (('ВЫНЕСТИ','ПРИГОВОР'),3), \n",
    "                (('НАЗНАЧИТЬ','НАКАЗАНИЕ'),4), (('УДОВЛЕТВОРИТЬ','ХОДАТАЙСТВО'),5), \n",
    "                (('УДОВЛЕТВОРИТЬ','ИСК'),6), (('ОТКЛОНИТЬ','ХОДАТАЙСТВО'),7), (('ОТКЛОНИТЬ','ИСК'),8), \n",
    "                (('ОБЖАЛОВАТЬ','ПРИГОВОР'),9), (('ПРЕКРАТИТЬ','ДЕЛО'),10)]\n",
    "\n",
    "ranks_golden = [p[1] for p in golden_stand]\n",
    "ranks_lr = [list_no_scores_lr.index(i[0]) for i in golden_stand]\n",
    "ranks_pmi = [list_no_scores_pmi.index(i[0]) for i in golden_stand]\n",
    "print('gold', ranks_golden)\n",
    "print('lr', ranks_lr)\n",
    "print('pmi', ranks_pmi)"
   ]
  },
  {
   "cell_type": "code",
   "execution_count": 16,
   "metadata": {
    "collapsed": false
   },
   "outputs": [
    {
     "name": "stdout",
     "output_type": "stream",
     "text": [
      "[(('ПРИНЯТЬ', 'РЕШЕНИЕ'), 1), (('ПРИЗНАТЬ', 'ВИНОВНАЯ'), 2), (('ВЫНЕСТИ', 'ПРИГОВОР'), 3), (('НАЗНАЧИТЬ', 'НАКАЗАНИЕ'), 4), (('УДОВЛЕТВОРИТЬ', 'ХОДАТАЙСТВО'), 5), (('УДОВЛЕТВОРИТЬ', 'ИСК'), 6), (('ОТКЛОНИТЬ', 'ХОДАТАЙСТВО'), 7), (('ОТКЛОНИТЬ', 'ИСК'), 8), (('ОБЖАЛОВАТЬ', 'ПРИГОВОР'), 9), (('ПРЕКРАТИТЬ', 'ДЕЛО'), 10)] [(('ПРИНЯТЬ', 'РЕШЕНИЕ'), 5), (('ПРИЗНАТЬ', 'ВИНОВНАЯ'), 12), (('ВЫНЕСТИ', 'ПРИГОВОР'), 86), (('НАЗНАЧИТЬ', 'НАКАЗАНИЕ'), 1992), (('УДОВЛЕТВОРИТЬ', 'ХОДАТАЙСТВО'), 4), (('УДОВЛЕТВОРИТЬ', 'ИСК'), 3), (('ОТКЛОНИТЬ', 'ХОДАТАЙСТВО'), 1251), (('ОТКЛОНИТЬ', 'ИСК'), 80), (('ОБЖАЛОВАТЬ', 'ПРИГОВОР'), 2123), (('ПРЕКРАТИТЬ', 'ДЕЛО'), 1648)]\n",
      "-76750.02424242425\n"
     ]
    }
   ],
   "source": [
    "from nltk.metrics.spearman import *\n",
    "print(golden_stand, ranks_lr)\n",
    "print(spearman_correlation(golden_stand, ranks_lr))"
   ]
  },
  {
   "cell_type": "code",
   "execution_count": 18,
   "metadata": {
    "collapsed": false
   },
   "outputs": [
    {
     "data": {
      "text/plain": [
       "SpearmanrResult(correlation=0.45454545454545447, pvalue=0.18690481034933201)"
      ]
     },
     "execution_count": 18,
     "metadata": {},
     "output_type": "execute_result"
    }
   ],
   "source": [
    "spearmanr(ranks_golden,ranks_lr)"
   ]
  },
  {
   "cell_type": "code",
   "execution_count": 9,
   "metadata": {
    "collapsed": false
   },
   "outputs": [
    {
     "data": {
      "text/plain": [
       "SpearmanrResult(correlation=0.43030303030303024, pvalue=0.21449233253280775)"
      ]
     },
     "execution_count": 9,
     "metadata": {},
     "output_type": "execute_result"
    }
   ],
   "source": [
    "spearmanr(ranks_golden,ranks_pmi)"
   ]
  },
  {
   "cell_type": "code",
   "execution_count": null,
   "metadata": {
    "collapsed": true
   },
   "outputs": [],
   "source": []
  }
 ],
 "metadata": {
  "kernelspec": {
   "display_name": "Python 3",
   "language": "python",
   "name": "python3"
  },
  "language_info": {
   "codemirror_mode": {
    "name": "ipython",
    "version": 3
   },
   "file_extension": ".py",
   "mimetype": "text/x-python",
   "name": "python",
   "nbconvert_exporter": "python",
   "pygments_lexer": "ipython3",
   "version": "3.5.2"
  }
 },
 "nbformat": 4,
 "nbformat_minor": 0
}
